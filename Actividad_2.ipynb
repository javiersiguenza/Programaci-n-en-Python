{
 "cells": [
  {
   "cell_type": "markdown",
   "metadata": {},
   "source": [
    "## Ejercicio 1\n",
    "\n",
    "Escribe una función llamada ejercicio1 que genere una lista con 15 valores enteros aleatorios que vayan de 1 a 100. La función debe devolver la lista con todos los valores.\n"
   ]
  },
  {
   "cell_type": "code",
   "execution_count": 17,
   "metadata": {},
   "outputs": [],
   "source": [
    "import random\n",
    "\n",
    "def ejercicio1():\n",
    "    lista_enteros = [random.randint(1, 100) for _ in range(15)]    \n",
    "    return lista_enteros"
   ]
  },
  {
   "cell_type": "markdown",
   "metadata": {},
   "source": [
    "## Ejercicio 2\n",
    "\n",
    "Escribe una función llamada ejercicio2 que recibe 2 argumentos: el primero será la lista que hemos implementado en el apartado a y el segundo un número por el que se dividirá cada uno de los elementos de la lista. El resultado será una nueva lista."
   ]
  },
  {
   "cell_type": "code",
   "execution_count": 18,
   "metadata": {},
   "outputs": [],
   "source": [
    "def ejercicio2(lista, divisor):\n",
    "    if not isinstance(lista, list):\n",
    "        return \"El primer argumento debe ser una lista.\"\n",
    "\n",
    "    # Verificar que el divisor sea un número válido y no sea cero\n",
    "    if not isinstance(divisor, (int, float)) or divisor == 0:\n",
    "        return \"El segundo argumento debe ser un número diferente de cero.\"\n",
    "\n",
    "    # Crear la nueva lista con los elementos divididos\n",
    "    nueva_lista = [elemento / divisor for elemento in lista]\n",
    "\n",
    "    return nueva_lista"
   ]
  },
  {
   "cell_type": "markdown",
   "metadata": {},
   "source": [
    "## Ejercicio 3\n",
    "\n",
    "Usando funciones anónimas, crea una nueva lista que contenga los valores enteros de cada uno de los elementos de la lista que devuelve la función implementada en el apartado b."
   ]
  },
  {
   "cell_type": "code",
   "execution_count": 19,
   "metadata": {},
   "outputs": [],
   "source": [
    "def ejercicio3():\n",
    "    return list(map(lambda x: int(x), ejercicio2(ejercicio1, 5)))"
   ]
  },
  {
   "cell_type": "markdown",
   "metadata": {},
   "source": [
    "## Ejercicio 4\n",
    "\n",
    "Implementa una función que tenga como parámetro una lista y que devuelve 2 resultados: el mínimo común divisor de todos los números y el máximo común múltiplo de todos los valores de la lista. Prueba esta función con la lista que has obtenido en el apartado c."
   ]
  },
  {
   "cell_type": "code",
   "execution_count": 20,
   "metadata": {},
   "outputs": [],
   "source": [
    "import math\n",
    "\n",
    "def ejercicio4(lista):\n",
    "    def calcular_mcd(x, y):\n",
    "        return math.gcd(x, y)\n",
    "    def calcular_mcm(x, y):\n",
    "        return abs(x * y) // math.gcd(x, y)\n",
    "\n",
    "    mcd_resultado = lista[0]\n",
    "    mcm_resultado = lista[0]\n",
    "\n",
    "    for num in lista[1:]:\n",
    "        mcd_resultado = calcular_mcd(mcd_resultado, num)\n",
    "        mcm_resultado = calcular_mcm(mcm_resultado, num)\n",
    "\n",
    "    return mcd_resultado, mcm_resultado"
   ]
  },
  {
   "cell_type": "markdown",
   "metadata": {},
   "source": [
    "## Ejercicio 5\n",
    "\n",
    "Ayudándote de los conjuntos, obtén los valores que son únicos en la lista generada en el apartado a. Una vez hecho esto, imprime por pantalla el número de valores únicos."
   ]
  },
  {
   "cell_type": "code",
   "execution_count": 21,
   "metadata": {},
   "outputs": [
    {
     "name": "stdout",
     "output_type": "stream",
     "text": [
      "{32, 100, 7, 74, 13, 15, 81, 84, 85, 24, 26, 28, 31}\n"
     ]
    }
   ],
   "source": [
    "print(set(ejercicio1()))"
   ]
  }
 ],
 "metadata": {
  "kernelspec": {
   "display_name": "Python 3",
   "language": "python",
   "name": "python3"
  },
  "language_info": {
   "codemirror_mode": {
    "name": "ipython",
    "version": 3
   },
   "file_extension": ".py",
   "mimetype": "text/x-python",
   "name": "python",
   "nbconvert_exporter": "python",
   "pygments_lexer": "ipython3",
   "version": "3.10.13"
  },
  "orig_nbformat": 2
 },
 "nbformat": 4,
 "nbformat_minor": 2
}
