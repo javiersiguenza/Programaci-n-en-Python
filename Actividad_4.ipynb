{
 "cells": [
  {
   "cell_type": "markdown",
   "metadata": {},
   "source": [
    "## Ejercicio 1\n",
    "\n",
    "Crea una función llamada ejercicio1, que recibe la ruta donde se encuentra un dataset y devuelve una DataFrame con los datos que hay en el dataset. Para comprobar esta función utiliza el dataset `titanic.csv` que se incluye en esta actividad."
   ]
  },
  {
   "cell_type": "code",
   "execution_count": 35,
   "metadata": {},
   "outputs": [],
   "source": [
    "import pandas as pd\n",
    "\n",
    "def ejercicio1(ruta_dataset):\n",
    "    try:\n",
    "        dataframe = pd.read_csv(ruta_dataset)\n",
    "        return dataframe\n",
    "    except FileNotFoundError:\n",
    "        print(f\"Error: El archivo en la ruta '{ruta_dataset}' no se encontró.\")\n",
    "        return None\n",
    "    except Exception as e:\n",
    "        print(f\"Error: {e}\")\n",
    "        return None"
   ]
  },
  {
   "cell_type": "markdown",
   "metadata": {},
   "source": [
    "## Ejercicio 2\n",
    "\n",
    "Crea otra función llamada ejercicio2. Esta función recibe un único argumento que es un dataframe. En concreto debe recibir el dataframe que se ha obtenido de leer el dataset `titanic.csv`. Esta función devolverá otro dataset que incluya únicamente a los pasajeros menores de 35 años y que viajaban en 3ª clase."
   ]
  },
  {
   "cell_type": "code",
   "execution_count": 36,
   "metadata": {},
   "outputs": [],
   "source": [
    "import pandas as pd\n",
    "\n",
    "def ejercicio2(dataframe):\n",
    "    try:\n",
    "        filtro_edad = dataframe['Age'] < 35\n",
    "        filtro_clase = dataframe['Pclass'] == 3\n",
    "        resultado_dataframe = dataframe[filtro_edad & filtro_clase]\n",
    "\n",
    "        return resultado_dataframe\n",
    "    except Exception as e:\n",
    "        print(f\"Error: {e}\")\n",
    "        return None"
   ]
  },
  {
   "cell_type": "markdown",
   "metadata": {},
   "source": [
    "## Ejercicio 3\n",
    "\n",
    "Crea una función llamada ejercicio3, que recibiendo como argumento el dataframe de salida del ejercicio 2, calcule el porcentaje de pasajeros menores de 35 años de 3ª clase que sobrevivieron."
   ]
  },
  {
   "cell_type": "code",
   "execution_count": 37,
   "metadata": {},
   "outputs": [],
   "source": [
    "def ejercicio3(dataframe_filtrado):\n",
    "    try:\n",
    "        # Filtrar el DataFrame filtrado por pasajeros que sobrevivieron\n",
    "        filtro_sobrevivieron = dataframe_filtrado['Survived'] == 1\n",
    "        dataframe_sobrevivieron = dataframe_filtrado[filtro_sobrevivieron]\n",
    "\n",
    "        # Calcular el porcentaje de pasajeros que sobrevivieron\n",
    "        porcentaje_sobrevivieron = (len(dataframe_sobrevivieron) / len(dataframe_filtrado)) * 100\n",
    "\n",
    "        return porcentaje_sobrevivieron\n",
    "    except Exception as e:\n",
    "        print(f\"Error: {e}\")\n",
    "        return None"
   ]
  },
  {
   "cell_type": "markdown",
   "metadata": {},
   "source": [
    "## Ejercicio 4\n",
    "\n",
    "Implementa una función llamada ejercicio4 que recibiendo el dataframe con los datos del Titanic, devuelva en una tupla el porcentaje de hombres y mujeres que viajaban en el Titanic, redondeados al segundo decimal."
   ]
  },
  {
   "cell_type": "code",
   "execution_count": 38,
   "metadata": {},
   "outputs": [],
   "source": [
    "def ejercicio4(dataframe):\n",
    "    try:\n",
    "        # Calcular el porcentaje de hombres y mujeres\n",
    "        total_pasajeros = len(dataframe)\n",
    "        \n",
    "        # Filtrar el DataFrame por género\n",
    "        filtro_hombres = dataframe['Sex'] == 'male'\n",
    "        filtro_mujeres = dataframe['Sex'] == 'female'\n",
    "        \n",
    "        hombres = len(dataframe[filtro_hombres])\n",
    "        mujeres = len(dataframe[filtro_mujeres])\n",
    "        \n",
    "        porcentaje_hombres = (hombres / total_pasajeros) * 100\n",
    "        porcentaje_mujeres = (mujeres / total_pasajeros) * 100\n",
    "\n",
    "        return round(porcentaje_hombres, 2), round(porcentaje_mujeres, 2)\n",
    "    except Exception as e:\n",
    "        print(f\"Error: {e}\")\n",
    "        return None"
   ]
  },
  {
   "cell_type": "markdown",
   "metadata": {},
   "source": [
    "## Ejercicio 5\n",
    "\n",
    "\n",
    "Implementa una función llamada ejercicio5 que recibiendo el dataframe con los datos del Titanic, devuelva en una lista el número de pasajeros que viajaban en 1ª, 2ª y 3ª clase."
   ]
  },
  {
   "cell_type": "code",
   "execution_count": 39,
   "metadata": {},
   "outputs": [],
   "source": [
    "def ejercicio5(dataframe):\n",
    "    return dataframe['Pclass'].value_counts().sort_index().tolist()\n"
   ]
  }
 ],
 "metadata": {
  "kernelspec": {
   "display_name": "Python 3",
   "language": "python",
   "name": "python3"
  },
  "language_info": {
   "codemirror_mode": {
    "name": "ipython",
    "version": 3
   },
   "file_extension": ".py",
   "mimetype": "text/x-python",
   "name": "python",
   "nbconvert_exporter": "python",
   "pygments_lexer": "ipython3",
   "version": "3.10.13"
  }
 },
 "nbformat": 4,
 "nbformat_minor": 2
}
