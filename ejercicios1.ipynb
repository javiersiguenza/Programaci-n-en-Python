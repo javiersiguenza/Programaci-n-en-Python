{
 "cells": [
  {
   "cell_type": "markdown",
   "id": "1461f8f5-8dfb-4d98-801e-38fd77bcb98d",
   "metadata": {
    "tags": []
   },
   "source": [
    "# Ejemplo de un notebook\n",
    "#### Aquí se muestra un ejemplo en Jupyter Notebook"
   ]
  },
  {
   "cell_type": "code",
   "execution_count": 24,
   "id": "c03e17f3-0340-4101-adf9-bcc286eefbd0",
   "metadata": {
    "tags": []
   },
   "outputs": [
    {
     "name": "stdout",
     "output_type": "stream",
     "text": [
      "Aquí pongo el código a ejecutar.\n",
      "Tiene una sangría de 4 espacios.\n"
     ]
    }
   ],
   "source": [
    "variable = 1\n",
    "if (variable == 1):\n",
    " print(\"Aquí pongo el código a ejecutar.\")\n",
    " print(\"Tiene una sangría de 4 espacios.\")"
   ]
  },
  {
   "cell_type": "code",
   "execution_count": 25,
   "id": "016a5cf5-e2ba-4e89-82ee-2d58414117bc",
   "metadata": {
    "tags": []
   },
   "outputs": [
    {
     "name": "stdout",
     "output_type": "stream",
     "text": [
      "El precio final es: 30.25\n"
     ]
    }
   ],
   "source": [
    "# Ejemplo de constantes:\n",
    "IVA = 0.21\n",
    "precio = 25\n",
    "precio_final = precio + (precio * IVA)\n",
    "print(\"El precio final es:\", precio_final)"
   ]
  },
  {
   "cell_type": "code",
   "execution_count": 26,
   "id": "0245c994-06b3-4255-9664-6394df14029d",
   "metadata": {
    "tags": []
   },
   "outputs": [
    {
     "name": "stdout",
     "output_type": "stream",
     "text": [
      "7\n"
     ]
    }
   ],
   "source": [
    "print(4 ^ 3)"
   ]
  },
  {
   "cell_type": "code",
   "execution_count": 27,
   "id": "4de38c66-3ad8-4da7-8dc5-a186b62236a8",
   "metadata": {
    "tags": []
   },
   "outputs": [
    {
     "name": "stdout",
     "output_type": "stream",
     "text": [
      "e\n"
     ]
    }
   ],
   "source": [
    "mensaje=\"Esto es una frase de prueba\"\n",
    "print(mensaje[5])"
   ]
  },
  {
   "cell_type": "code",
   "execution_count": 28,
   "id": "ff928ab9-5324-4be4-9670-06ff39836970",
   "metadata": {
    "tags": []
   },
   "outputs": [
    {
     "name": "stdout",
     "output_type": "stream",
     "text": [
      "es una frase de\n"
     ]
    }
   ],
   "source": [
    "print(mensaje[5:20])"
   ]
  },
  {
   "cell_type": "code",
   "execution_count": 29,
   "id": "642ca3c5-6b20-4f42-b672-72390edd148b",
   "metadata": {
    "tags": []
   },
   "outputs": [
    {
     "name": "stdout",
     "output_type": "stream",
     "text": [
      "Esto es una fra\n"
     ]
    }
   ],
   "source": [
    "print(mensaje[:15])"
   ]
  },
  {
   "cell_type": "code",
   "execution_count": 30,
   "id": "071d15ab-5b77-401c-9b7a-e74c109c18b3",
   "metadata": {
    "tags": []
   },
   "outputs": [
    {
     "name": "stdout",
     "output_type": "stream",
     "text": [
      "a frase de prueba\n"
     ]
    }
   ],
   "source": [
    "print(mensaje[10:])"
   ]
  },
  {
   "cell_type": "code",
   "execution_count": 31,
   "id": "942ba7c4-0ffd-4e4f-b72a-eaff21f324ee",
   "metadata": {
    "tags": []
   },
   "outputs": [
    {
     "name": "stdout",
     "output_type": "stream",
     "text": [
      " de prueba\n"
     ]
    }
   ],
   "source": [
    "print(mensaje[-10:])"
   ]
  },
  {
   "cell_type": "code",
   "execution_count": 32,
   "id": "c46deb24-126c-4e29-88ea-96e467b59510",
   "metadata": {
    "tags": []
   },
   "outputs": [
    {
     "name": "stdout",
     "output_type": "stream",
     "text": [
      "Esto es una frase\n"
     ]
    }
   ],
   "source": [
    "print(mensaje[:-10])"
   ]
  },
  {
   "cell_type": "code",
   "execution_count": 33,
   "id": "44c21952-1244-47d2-b841-0679758bdd85",
   "metadata": {
    "tags": []
   },
   "outputs": [
    {
     "name": "stdout",
     "output_type": "stream",
     "text": [
      "Hoy es domingo Hoy es domingo Hoy es domingo \n"
     ]
    }
   ],
   "source": [
    "print(\"Hoy es domingo \" * 3)"
   ]
  },
  {
   "cell_type": "code",
   "execution_count": 34,
   "id": "8b2ee310-eb56-4857-8384-efcf74d782c3",
   "metadata": {
    "tags": []
   },
   "outputs": [
    {
     "name": "stdout",
     "output_type": "stream",
     "text": [
      "27\n"
     ]
    }
   ],
   "source": [
    "print(len(mensaje))"
   ]
  },
  {
   "cell_type": "code",
   "execution_count": 37,
   "id": "f61ce99c",
   "metadata": {},
   "outputs": [
    {
     "name": "stdout",
     "output_type": "stream",
     "text": [
      "ESTO ES UNA FRASE DE PRUEBA\n",
      "Esto es una frase de prueba\n"
     ]
    }
   ],
   "source": [
    "print(mensaje.upper()) # no se guarda el estado si no hacemos mensaje = mensaje.upper()"
   ]
  }
 ],
 "metadata": {
  "kernelspec": {
   "display_name": "Python 3 (ipykernel)",
   "language": "python",
   "name": "python3"
  },
  "language_info": {
   "codemirror_mode": {
    "name": "ipython",
    "version": 3
   },
   "file_extension": ".py",
   "mimetype": "text/x-python",
   "name": "python",
   "nbconvert_exporter": "python",
   "pygments_lexer": "ipython3",
   "version": "3.11.6"
  }
 },
 "nbformat": 4,
 "nbformat_minor": 5
}
